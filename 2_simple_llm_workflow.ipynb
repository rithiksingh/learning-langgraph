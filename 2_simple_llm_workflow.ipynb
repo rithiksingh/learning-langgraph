{
 "cells": [
  {
   "cell_type": "code",
   "execution_count": 16,
   "id": "4cb3c3e1",
   "metadata": {},
   "outputs": [],
   "source": [
    "from langgraph.graph import StateGraph, START, END\n",
    "from langchain_openai import ChatOpenAI\n",
    "from typing import TypedDict\n",
    "from dotenv import load_dotenv"
   ]
  },
  {
   "cell_type": "code",
   "execution_count": 5,
   "id": "08a64edb",
   "metadata": {},
   "outputs": [
    {
     "data": {
      "text/plain": [
       "True"
      ]
     },
     "execution_count": 5,
     "metadata": {},
     "output_type": "execute_result"
    }
   ],
   "source": [
    "load_dotenv()"
   ]
  },
  {
   "cell_type": "code",
   "execution_count": 6,
   "id": "c4ea83fc",
   "metadata": {},
   "outputs": [],
   "source": [
    "model= ChatOpenAI()"
   ]
  },
  {
   "cell_type": "code",
   "execution_count": 13,
   "id": "230965cb",
   "metadata": {},
   "outputs": [],
   "source": [
    "# create a state\n",
    "class LLMState(TypedDict):\n",
    "    question: str\n",
    "    answer: str\n"
   ]
  },
  {
   "cell_type": "code",
   "execution_count": 15,
   "id": "4daa8362",
   "metadata": {},
   "outputs": [],
   "source": [
    "# make the llm_qa function\n",
    "def llm_qa(state: LLMState) -> LLMState:\n",
    "    question = state['question']\n",
    "    answer = model.invoke(question).content\n",
    "    state['answer'] = answer\n",
    "    return state"
   ]
  },
  {
   "cell_type": "code",
   "execution_count": null,
   "id": "3b72f46a",
   "metadata": {},
   "outputs": [],
   "source": [
    "#create our graph \n",
    "graph= StateGraph(LLMState)\n",
    "\n",
    "#add node in our graph \n",
    "\n",
    "graph.add_node('llm_qa', llm_qa)\n",
    "\n",
    "#add edges in our graph \n",
    "graph.add_edge(START, 'llm_qa')\n",
    "graph.add_edge('llm_qa', END)\n",
    "\n",
    "#compile the graph\n",
    "workflow=graph.compile()\n"
   ]
  },
  {
   "cell_type": "code",
   "execution_count": 29,
   "id": "8530146f",
   "metadata": {},
   "outputs": [
    {
     "name": "stdout",
     "output_type": "stream",
     "text": [
      "what is the capital of India\n",
      "The capital of India is New Delhi.\n"
     ]
    }
   ],
   "source": [
    "#execute the graph\n",
    "initial_state= {'question': 'what is the capital of India'}\n",
    "\n",
    "final_state= workflow.invoke(initial_state)\n",
    "\n",
    "print(final_state['question'])\n",
    "print(final_state['answer'])\n",
    "\n"
   ]
  }
 ],
 "metadata": {
  "kernelspec": {
   "display_name": "venv",
   "language": "python",
   "name": "python3"
  },
  "language_info": {
   "codemirror_mode": {
    "name": "ipython",
    "version": 3
   },
   "file_extension": ".py",
   "mimetype": "text/x-python",
   "name": "python",
   "nbconvert_exporter": "python",
   "pygments_lexer": "ipython3",
   "version": "3.13.5"
  }
 },
 "nbformat": 4,
 "nbformat_minor": 5
}
