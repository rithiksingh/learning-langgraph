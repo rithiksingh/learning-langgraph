{
 "cells": [
  {
   "cell_type": "code",
   "execution_count": 1,
   "id": "a6fac324",
   "metadata": {},
   "outputs": [],
   "source": [
    "from langgraph.graph import StateGraph, START, END\n",
    "from langchain_openai import ChatOpenAI\n",
    "from typing import TypedDict\n",
    "from dotenv import load_dotenv"
   ]
  },
  {
   "cell_type": "code",
   "execution_count": 7,
   "id": "b0937318",
   "metadata": {},
   "outputs": [],
   "source": [
    "load_dotenv()\n",
    "model= ChatOpenAI()"
   ]
  },
  {
   "cell_type": "code",
   "execution_count": 4,
   "id": "db9af9b8",
   "metadata": {},
   "outputs": [],
   "source": [
    "class BlogState(TypedDict):\n",
    "    topic: str\n",
    "    outline: str\n",
    "    content: str"
   ]
  },
  {
   "cell_type": "code",
   "execution_count": 13,
   "id": "9ffa3cd7",
   "metadata": {},
   "outputs": [],
   "source": [
    "def create_outline(state: BlogState) -> BlogState:\n",
    "    topic= state['topic']\n",
    "    prompt= f\"generate a outline for a blog for the topic {topic}\"\n",
    "    state['outline']= model.invoke(prompt).content\n",
    "    return state\n",
    "    "
   ]
  },
  {
   "cell_type": "code",
   "execution_count": 22,
   "id": "6d775fd0",
   "metadata": {},
   "outputs": [],
   "source": [
    "def create_content(state: BlogState) -> BlogState:\n",
    "    outline=state['outline']\n",
    "    topic=state['topic']\n",
    "    prompt= f\"write a small blog on {topic} using the outline {outline}\"\n",
    "    state['content']= model.invoke(prompt).content\n",
    "    return state\n",
    "    "
   ]
  },
  {
   "cell_type": "code",
   "execution_count": 25,
   "id": "2027bc5c",
   "metadata": {},
   "outputs": [],
   "source": [
    "#creating our graph \n",
    "graph= StateGraph(BlogState)\n",
    "\n",
    "#add nodes to the graph \n",
    "graph.add_node('create_outline', create_outline)\n",
    "graph.add_node('create_content', create_content)\n",
    "\n",
    "#add edges to the graph\n",
    "graph.add_edge(START, 'create_outline')\n",
    "graph.add_edge('create_outline', 'create_content')\n",
    "graph.add_edge('create_content', END)\n",
    "\n",
    "\n",
    "#compile the graph\n",
    "workflow= graph.compile()"
   ]
  },
  {
   "cell_type": "code",
   "execution_count": 26,
   "id": "354980cb",
   "metadata": {},
   "outputs": [
    {
     "name": "stdout",
     "output_type": "stream",
     "text": [
      "outline:/n I. Introduction\n",
      "- Brief explanation of what AI technology is\n",
      "- Overview of how AI technology is impacting various industries in India\n",
      "\n",
      "II. Current state of AI in India\n",
      "- Statistics on the growth of AI in India\n",
      "- Examples of companies in India utilizing AI technology\n",
      "- Challenges and opportunities for AI adoption in India\n",
      "\n",
      "III. Government initiatives and policies supporting AI growth\n",
      "- Overview of government initiatives promoting AI in India\n",
      "- Analysis of government policies supporting the development of AI technology in India\n",
      "\n",
      "IV. Key industries leveraging AI in India\n",
      "- Healthcare\n",
      "- Finance\n",
      "- Agriculture\n",
      "- Education\n",
      "- Manufacturing\n",
      "- Retail\n",
      "\n",
      "V. Impact of AI on the job market in India\n",
      "- Discussion on how AI technology is reshaping the job market in India\n",
      "- Analysis of the potential effects of AI on job creation and displacement in India\n",
      "\n",
      "VI. Future trends in AI technology in India\n",
      "- Predictions for the future growth of AI technology in India\n",
      "- Analysis of emerging trends in AI technology in India\n",
      "\n",
      "VII. Conclusion\n",
      "- Recap of key points discussed in the blog\n",
      "- Final thoughts on the rise of AI in India and its potential impact on society\n",
      "Blog content:/n Artificial intelligence (AI) technology has been on the rise in recent years, revolutionizing various industries across the globe. In India, the impact of AI technology is no different, with companies and industries leveraging AI to enhance efficiencies, drive innovation, and improve customer experiences.\n",
      "\n",
      "Currently, India is experiencing significant growth in AI technology, with a recent report by NASSCOM predicting that the AI market in India is expected to reach $7.7 billion by 2025. Companies such as Flipkart, Zomato, and HDFC Bank are already utilizing AI technology to enhance their services and offerings. However, there are also challenges such as lack of skilled talent, data privacy concerns, and regulatory hurdles that need to be addressed for widespread AI adoption in the country.\n",
      "\n",
      "The government has been actively promoting AI growth in India through initiatives like the National Strategy for Artificial Intelligence and the National AI Portal. These initiatives aim to support the development and adoption of AI technology across various sectors by providing funding, resources, and support. Additionally, government policies like the National Data Sharing and Accessibility Policy and the National AI Ethics Policy are crucial in ensuring responsible and ethical AI development in the country.\n",
      "\n",
      "AI technology has been transforming key industries in India such as healthcare, finance, agriculture, education, manufacturing, and retail. In healthcare, AI is being used for diagnostics, personalized medicine, and telemedicine. In finance, AI is revolutionizing customer service, fraud detection, and risk management. In agriculture, AI is helping farmers optimize crop yields and reduce waste. In education, AI is enhancing personalized learning experiences and improving student outcomes. In manufacturing, AI is increasing productivity, reducing downtime, and improving quality control. In retail, AI is enhancing customer experiences, optimizing supply chains, and driving sales.\n",
      "\n",
      "The impact of AI on the job market in India is a topic of concern, with fears of job displacement due to automation. While AI may lead to the loss of some traditional jobs, it also has the potential to create new job opportunities in areas like data science, AI development, and AI ethics. With the right skills and training, individuals can position themselves for the jobs of the future.\n",
      "\n",
      "Looking ahead, the future of AI technology in India looks promising, with emerging trends like chatbots, augmented analytics, and autonomous systems shaping the AI landscape. As AI continues to evolve and grow in India, it is essential for businesses, governments, and individuals to stay informed and prepared for the changes that AI will bring.\n",
      "\n",
      "In conclusion, the rise of AI in India presents both opportunities and challenges for the country. With the right policies, investments, and collaborations, India has the potential to become a global leader in AI technology. As AI continues to transform industries and societies, it is crucial for India to embrace AI technology responsibly and ethically to ensure a positive impact on the economy and society.\n"
     ]
    }
   ],
   "source": [
    "#get the initial state \n",
    "initial_state= {'topic': 'Rise of AI in India'}\n",
    "\n",
    "#call the workflow using initial state\n",
    "final_state= workflow.invoke(initial_state)\n",
    "\n",
    "print(f\"outline:/n\", final_state['outline'])\n",
    "print(f\"Blog content:/n\", final_state['content'])\n",
    "\n"
   ]
  }
 ],
 "metadata": {
  "kernelspec": {
   "display_name": "venv",
   "language": "python",
   "name": "python3"
  },
  "language_info": {
   "codemirror_mode": {
    "name": "ipython",
    "version": 3
   },
   "file_extension": ".py",
   "mimetype": "text/x-python",
   "name": "python",
   "nbconvert_exporter": "python",
   "pygments_lexer": "ipython3",
   "version": "3.13.5"
  }
 },
 "nbformat": 4,
 "nbformat_minor": 5
}
