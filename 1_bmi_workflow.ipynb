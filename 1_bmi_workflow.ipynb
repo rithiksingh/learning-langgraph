{
 "cells": [
  {
   "cell_type": "code",
   "execution_count": 1,
   "metadata": {},
   "outputs": [],
   "source": [
    "from langgraph.graph import StateGraph, START, END\n",
    "from typing import TypedDict"
   ]
  },
  {
   "cell_type": "code",
   "execution_count": 10,
   "metadata": {},
   "outputs": [],
   "source": [
    "#define state\n",
    "class BMIState(TypedDict):\n",
    "    weight_kg: float\n",
    "    height_m: float\n",
    "    bmi: float\n",
    "    verdict: str\n",
    "\n",
    "# defination of the calculate_bmi node function\n",
    "# every node takes in the state and return the updated state\n",
    "# in this we are taking the weight and height from the state\n",
    "# then calculating the bmi and then just return the updated bmi\n",
    "def cal_bmi(state: BMIState) -> BMIState:\n",
    "    weight= state['weight_kg']\n",
    "    height= state['height_m']\n",
    "    \n",
    "    bmi=weight/(height**2)\n",
    "\n",
    "    state['bmi']=round(bmi,2)\n",
    "\n",
    "    return state\n",
    "# defination of the calculate_verdict node function\n",
    "def cal_verdict(state: BMIState) -> BMIState:\n",
    "    bmi = state['bmi']\n",
    "    \n",
    "    if bmi < 18.5:\n",
    "        verdict = 'Underweight'\n",
    "    elif 18.5 <= bmi < 24.9:\n",
    "        verdict = 'Normal weight'\n",
    "    elif 25 <= bmi < 29.9:\n",
    "        verdict = 'Overweight'\n",
    "    else:\n",
    "        verdict = 'Obesity'\n",
    "    \n",
    "    state['verdict'] = verdict\n",
    "\n",
    "    return state\n"
   ]
  },
  {
   "cell_type": "code",
   "execution_count": 13,
   "metadata": {},
   "outputs": [],
   "source": [
    "#define graph\n",
    "graph= StateGraph(BMIState)\n",
    "\n",
    "#add nodes to your graph\n",
    "graph.add_node('calculate_bmi',cal_bmi)\n",
    "graph.add_node('calculate_verdict', cal_verdict)\n",
    "\n",
    "#add edges to your graph\n",
    "graph.add_edge(START,'calculate_bmi')\n",
    "graph.add_edge('calculate_bmi', 'calculate_verdict')\n",
    "graph.add_edge('calculate_verdict', END)\n",
    "\n",
    "\n",
    "workflow= graph.compile()\n"
   ]
  },
  {
   "cell_type": "code",
   "execution_count": 14,
   "metadata": {},
   "outputs": [
    {
     "name": "stdout",
     "output_type": "stream",
     "text": [
      "{'weight_kg': 80, 'height_m': 1.85, 'bmi': 23.37, 'verdict': 'Normal weight'}\n"
     ]
    }
   ],
   "source": [
    "#execute the graph\n",
    "initial_state={'weight_kg':80, 'height_m':1.85}\n",
    "\n",
    "final_state= workflow.invoke(initial_state)\n",
    "\n",
    "print(final_state)"
   ]
  },
  {
   "cell_type": "code",
   "execution_count": 12,
   "metadata": {},
   "outputs": [
    {
     "data": {
      "image/png": "[encoded data removed]",
      "text/plain": [
       "<IPython.core.display.Image object>"
      ]
     },
     "execution_count": 12,
     "metadata": {},
     "output_type": "execute_result"
    }
   ],
   "source": [
    "from IPython.display import Image\n",
    "Image(workflow.get_graph().draw_mermaid_png())"
   ]
  }
 ],
 "metadata": {
  "kernelspec": {
   "display_name": "venv",
   "language": "python",
   "name": "python3"
  },
  "language_info": {
   "codemirror_mode": {
    "name": "ipython",
    "version": 3
   },
   "file_extension": ".py",
   "mimetype": "text/x-python",
   "name": "python",
   "nbconvert_exporter": "python",
   "pygments_lexer": "ipython3",
   "version": "3.13.5"
  }
 },
 "nbformat": 4,
 "nbformat_minor": 2
}
